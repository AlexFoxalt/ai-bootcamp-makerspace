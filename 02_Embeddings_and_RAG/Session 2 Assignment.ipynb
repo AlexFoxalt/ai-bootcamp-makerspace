{
 "cells": [
  {
   "cell_type": "code",
   "execution_count": 1,
   "id": "369152c4-9429-4d72-ba00-a08c1cf75c37",
   "metadata": {},
   "outputs": [
    {
     "name": "stdout",
     "output_type": "stream",
     "text": [
      "Requirement already satisfied: python-docx in /Users/alexfoxalt/PycharmProjects/ai_bootcamp/ai-bootcamp-makerspace/.ve/lib/python3.11/site-packages (1.1.2)\n",
      "Requirement already satisfied: PyPDF2 in /Users/alexfoxalt/PycharmProjects/ai_bootcamp/ai-bootcamp-makerspace/.ve/lib/python3.11/site-packages (3.0.1)\n",
      "Requirement already satisfied: lxml>=3.1.0 in /Users/alexfoxalt/PycharmProjects/ai_bootcamp/ai-bootcamp-makerspace/.ve/lib/python3.11/site-packages (from python-docx) (5.3.0)\n",
      "Requirement already satisfied: typing-extensions>=4.9.0 in /Users/alexfoxalt/PycharmProjects/ai_bootcamp/ai-bootcamp-makerspace/.ve/lib/python3.11/site-packages (from python-docx) (4.12.2)\n"
     ]
    }
   ],
   "source": [
    "!pip install python-docx PyPDF2"
   ]
  },
  {
   "cell_type": "code",
   "execution_count": 1,
   "id": "3a536e8d-e13c-42ef-8883-08a7dd487c90",
   "metadata": {},
   "outputs": [],
   "source": [
    "import os\n",
    "import docx\n",
    "import numpy as np\n",
    "import nest_asyncio\n",
    "import openai\n",
    "import asyncio\n",
    "import re\n",
    "import pdb\n",
    "from pprint import pprint\n",
    "from abc import ABC, abstractmethod\n",
    "from dotenv import load_dotenv\n",
    "from collections import defaultdict\n",
    "from PyPDF2 import PdfReader\n",
    "from typing import Callable"
   ]
  },
  {
   "cell_type": "code",
   "execution_count": 2,
   "id": "f907242f-a02c-44c5-8834-b9e730066760",
   "metadata": {},
   "outputs": [],
   "source": [
    "load_dotenv()\n",
    "nest_asyncio.apply()"
   ]
  },
  {
   "cell_type": "code",
   "execution_count": 3,
   "id": "8a5ccc4e-9f68-4a58-8d51-e361c5053bca",
   "metadata": {},
   "outputs": [],
   "source": [
    "assert os.getenv(\"OPENAI_API_KEY\")"
   ]
  },
  {
   "cell_type": "code",
   "execution_count": 4,
   "id": "0936bd04-568f-4217-9e51-73875a797e59",
   "metadata": {},
   "outputs": [],
   "source": [
    "class Settings:\n",
    "    openai_api_key = os.getenv(\"OPENAI_API_KEY\")\n",
    "    # large instead of small with 3,072 dimensions\n",
    "    embeddings_model_name = \"text-embedding-3-large\"\n",
    "    # not mini but classic\n",
    "    llm_model = \"gpt-4o\"\n",
    "\n",
    "\n",
    "settings = Settings()"
   ]
  },
  {
   "cell_type": "markdown",
   "id": "d51f8bb4-7311-4af5-aaaa-2b28b3d7e95d",
   "metadata": {},
   "source": [
    "## Distance metrics"
   ]
  },
  {
   "cell_type": "code",
   "execution_count": 5,
   "id": "00531524-2033-44f2-b3dd-89010a0cac0f",
   "metadata": {},
   "outputs": [],
   "source": [
    "class DistanceMetric(ABC):\n",
    "    @classmethod\n",
    "    @abstractmethod\n",
    "    def count(cls, x: np.array, y: np.array) -> float:\n",
    "        pass\n",
    "\n",
    "    @classmethod\n",
    "    @property\n",
    "    def name(cls) -> str:\n",
    "        return cls.__name__\n",
    "\n",
    "\n",
    "class CosineSimilarity(DistanceMetric):\n",
    "    \"\"\"\n",
    "    https://en.wikipedia.org/wiki/Cosine_similarity\n",
    "\n",
    "    Pros:\n",
    "        - Scale-invariant\n",
    "        - Suitable for high-dimensional data\n",
    "    Cons:\n",
    "        - Does not consider magnitude\n",
    "        - Can be less intuitive\n",
    "    \"\"\"\n",
    "\n",
    "    @classmethod\n",
    "    def count(cls, x: np.array, y: np.array) -> float:\n",
    "        return np.dot(x, y) / (np.linalg.norm(x) * np.linalg.norm(y))\n",
    "\n",
    "\n",
    "class EuclideanDistance(DistanceMetric):\n",
    "    \"\"\"\n",
    "    https://en.wikipedia.org/wiki/Euclidean_distance\n",
    "\n",
    "    Pros:\n",
    "        - Simple to implement\n",
    "        - Intuitive and easy to understand\n",
    "    Cons:\n",
    "        - Sensitive to scale\n",
    "        - Not suitable for high-dimensional data\n",
    "    \"\"\"\n",
    "\n",
    "    @classmethod\n",
    "    def count(cls, x: np.array, y: np.array) -> float:\n",
    "        return np.linalg.norm(x - y)\n",
    "\n",
    "\n",
    "class ManhattanDistance(DistanceMetric):\n",
    "    \"\"\"\n",
    "    https://www.datacamp.com/tutorial/manhattan-distance\n",
    "\n",
    "    Pros:\n",
    "        - Simple to implement\n",
    "        - Less sensitive to outliers\n",
    "    Cons:\n",
    "        - Sensitive to scale\n",
    "        - Not suitable for high-dimensional data\n",
    "    \"\"\"\n",
    "\n",
    "    @classmethod\n",
    "    def count(cls, x: np.array, y: np.array) -> float:\n",
    "        return np.sum(np.abs(x - y))\n",
    "\n",
    "\n",
    "class JaccardSimilarity(DistanceMetric):\n",
    "    \"\"\"\n",
    "    https://www.datacamp.com/tutorial/manhattan-distance\n",
    "\n",
    "    Pros:\n",
    "        - Good for binary and categorical data\n",
    "        - Intuitive interpretation\n",
    "    Cons:\n",
    "        - Not suitable for continuous data\n",
    "        - Can be computationally expensive\n",
    "    \"\"\"\n",
    "\n",
    "    @classmethod\n",
    "    def count(cls, x: np.array, y: np.array) -> float:\n",
    "        intersection = np.sum(np.minimum(x, y))\n",
    "        union = np.sum(np.maximum(x, y))\n",
    "        return intersection / union\n",
    "\n",
    "\n",
    "class HammingDistance(DistanceMetric):\n",
    "    \"\"\"\n",
    "    https://en.wikipedia.org/wiki/Hamming_distance\n",
    "\n",
    "    Pros:\n",
    "        - Simple to implement\n",
    "        - Suitable for categorical data\n",
    "    Cons:\n",
    "        - Requires equal length sequences\n",
    "        - Not suitable for continuous data\n",
    "    \"\"\"\n",
    "\n",
    "    @classmethod\n",
    "    def count(cls, x: np.array, y: np.array) -> float:\n",
    "        if x.shape != y.shape:\n",
    "            raise ValueError(\"Arrays must be of equal length\")\n",
    "        return np.mean(x != y)"
   ]
  },
  {
   "cell_type": "markdown",
   "id": "1e1f9da2-e5c5-4df3-8016-31119879e5de",
   "metadata": {},
   "source": [
    "## Embedding model class"
   ]
  },
  {
   "cell_type": "code",
   "execution_count": 6,
   "id": "2f8c4301-df75-4fb9-b18c-96ddcc491c50",
   "metadata": {},
   "outputs": [],
   "source": [
    "class EmbeddingModel:\n",
    "    def __init__(self, settings: Settings) -> None:\n",
    "        self.openai_api_key = settings.openai_api_key\n",
    "        self.async_client = openai.AsyncOpenAI()\n",
    "        self.client = openai.OpenAI()\n",
    "        openai.api_key = self.openai_api_key\n",
    "        self.embeddings_model_name = settings.embeddings_model_name\n",
    "        self.batch_size = 1024\n",
    "\n",
    "    async def async_get_embeddings(self, list_of_text: list[str]) -> list[np.array]:\n",
    "        batches = [\n",
    "            list_of_text[i : i + self.batch_size]\n",
    "            for i in range(0, len(list_of_text), self.batch_size)\n",
    "        ]\n",
    "\n",
    "        async def process_batch(batch):\n",
    "            embedding_response = await self.async_client.embeddings.create(\n",
    "                input=batch, model=self.embeddings_model_name\n",
    "            )\n",
    "            return [embeddings.embedding for embeddings in embedding_response.data]\n",
    "\n",
    "        # Use asyncio.gather to process all batches concurrently\n",
    "        results = await asyncio.gather(*[process_batch(batch) for batch in batches])\n",
    "\n",
    "        # Flatten the results\n",
    "        return [\n",
    "            np.array(embedding)\n",
    "            for batch_result in results\n",
    "            for embedding in batch_result\n",
    "        ]\n",
    "\n",
    "    def get_embedding(self, text: str) -> list[np.array]:\n",
    "        embedding = self.client.embeddings.create(\n",
    "            input=text, model=self.embeddings_model_name\n",
    "        )\n",
    "\n",
    "        return np.array(embedding.data[0].embedding)"
   ]
  },
  {
   "cell_type": "markdown",
   "id": "4b3ecd31-41c5-4e65-ab8c-ca485cfe0fd7",
   "metadata": {},
   "source": [
    "<br>"
   ]
  },
  {
   "cell_type": "markdown",
   "id": "4845a021-9fe1-4247-abd2-33172f56606f",
   "metadata": {},
   "source": [
    "### Metrics comparisons"
   ]
  },
  {
   "cell_type": "code",
   "execution_count": 7,
   "id": "42c4db9c-7752-41a8-aa16-aedad1a5baf2",
   "metadata": {},
   "outputs": [],
   "source": [
    "embedding_model = EmbeddingModel(settings=settings)\n",
    "\n",
    "yellow_sentence_v1 = \"This car is yellow\"\n",
    "lemon_sentence_v1 = \"This car is the same color as lemon\"\n",
    "\n",
    "yellow_vector_v1 = embedding_model.get_embedding(yellow_sentence_v1)\n",
    "lemon_vector_v1 = embedding_model.get_embedding(lemon_sentence_v1)"
   ]
  },
  {
   "cell_type": "code",
   "execution_count": 8,
   "id": "e4414025-c1e2-404f-951c-d38d37730298",
   "metadata": {},
   "outputs": [],
   "source": [
    "yellow_sentence_v2 = \"This car is yellow\"\n",
    "lemon_sentence_v2 = \"This is not a car. It's a tree\"\n",
    "\n",
    "yellow_vector_v2 = embedding_model.get_embedding(yellow_sentence_v2)\n",
    "lemon_vector_v2 = embedding_model.get_embedding(lemon_sentence_v2)"
   ]
  },
  {
   "cell_type": "code",
   "execution_count": 9,
   "id": "8fae52a7-a25d-4cbc-ba13-9ee5cb689d0b",
   "metadata": {},
   "outputs": [
    {
     "name": "stdout",
     "output_type": "stream",
     "text": [
      "v1\tCosineSimilarity: 0.6998949235584049\n",
      "v2\tCosineSimilarity: 0.48110602414446435\n",
      "\n",
      "v1\tEuclideanDistance: 0.7747323055567967\n",
      "v2\tEuclideanDistance: 1.0187187983980743\n",
      "\n",
      "v1\tManhattanDistance: 34.170326354105555\n",
      "v2\tManhattanDistance: 44.290678236883764\n",
      "\n",
      "v1\tJaccardSimilarity: -0.9437817869598495\n",
      "v2\tJaccardSimilarity: -0.9888799853095968\n",
      "\n",
      "v1\tHammingDistance: 1.0\n",
      "v2\tHammingDistance: 1.0\n",
      "\n"
     ]
    }
   ],
   "source": [
    "metric_classes = [\n",
    "    CosineSimilarity,\n",
    "    EuclideanDistance,\n",
    "    ManhattanDistance,\n",
    "    JaccardSimilarity,\n",
    "    HammingDistance,\n",
    "]\n",
    "for metric in metric_classes:\n",
    "    print(f\"v1\\t{metric.name}: {metric.count(yellow_vector_v1, lemon_vector_v1)}\")\n",
    "    print(f\"v2\\t{metric.name}: {metric.count(yellow_vector_v2, lemon_vector_v2)}\")\n",
    "    print()"
   ]
  },
  {
   "cell_type": "markdown",
   "id": "86140526-3acd-48d5-9568-ed47ad664211",
   "metadata": {},
   "source": [
    "### Summary\n",
    "\n",
    "**Cosine Similarity:** Best for high-dimensional data, measures the cosine of the angle between vectors.\n",
    "\n",
    "**Euclidean Distance:** Measures the straight-line distance between vectors, sensitive to scale and not ideal for high-dimensional data.\n",
    "\n",
    "**Manhattan Distance:** Measures the sum of absolute differences, also sensitive to scale.\n",
    "\n",
    "**Jaccard Similarity:** Good for binary or categorical data, measures the intersection over union.\n",
    "\n",
    "**Hamming Distance:** Measures the number of differing elements, suitable for categorical data with equal length sequences."
   ]
  },
  {
   "cell_type": "markdown",
   "id": "072af250-a98c-479e-a5b7-707a42a4ac39",
   "metadata": {},
   "source": [
    "<br>"
   ]
  },
  {
   "cell_type": "markdown",
   "id": "de8755e6-e697-4eca-b2a5-3454ce25c11d",
   "metadata": {},
   "source": [
    "## Vector class\n",
    "\n",
    "Basic Vector class extended with new field `metadata`"
   ]
  },
  {
   "cell_type": "code",
   "execution_count": 10,
   "id": "b650d05b-e660-41de-bc0e-85f946b78248",
   "metadata": {},
   "outputs": [],
   "source": [
    "class Vector:\n",
    "    def __init__(self, data: np.array, key: str, metadata: dict) -> None:\n",
    "        self.data = data\n",
    "        self.key = key\n",
    "        self.metadata = metadata\n",
    "\n",
    "    def __repr__(self) -> str:\n",
    "        return self.key"
   ]
  },
  {
   "cell_type": "markdown",
   "id": "efef4700-247a-41e0-8e29-f22e7120c6c0",
   "metadata": {},
   "source": [
    "## Custom pythonic vector DB\n",
    "\n",
    "Added new arg `min_quality` to ***search()*** method.\n",
    "\n",
    "We can set some minimum acceptable value in addition to `k` values limit.\n",
    "\n",
    "The reason is simple. We don't need low similarity responses. \n",
    "\n",
    "Better do NOT return anything instead of `k` number of low similarity items which may confuse our LLM model.\n",
    "\n",
    "`min_quality` value depends on distance metrics method type and should be selected after some analysis."
   ]
  },
  {
   "cell_type": "code",
   "execution_count": 11,
   "id": "86d2c235-23f9-47cd-8ba4-cf89d21a09c5",
   "metadata": {},
   "outputs": [],
   "source": [
    "class DB:\n",
    "    def __init__(self, model: EmbeddingModel) -> None:\n",
    "        self.vectors: dict[str, Vector] = {}\n",
    "        self.model = model\n",
    "\n",
    "    def insert(self, vector: Vector) -> None:\n",
    "        self.vectors[vector.key] = vector\n",
    "\n",
    "    def search(\n",
    "        self,\n",
    "        query_vector: np.array,\n",
    "        k: int,\n",
    "        min_quality: float,\n",
    "        distance_measure: Callable,\n",
    "    ) -> list[Vector]:\n",
    "        scores = []\n",
    "        for vector in self.vectors.values():\n",
    "            similarity = distance_measure(query_vector, vector.data)\n",
    "            if similarity < min_quality:\n",
    "                continue\n",
    "            scores.append((vector, similarity))\n",
    "        return sorted(scores, key=lambda i: i[1], reverse=True)[:k]\n",
    "\n",
    "    def search_by_text(\n",
    "        self,\n",
    "        query_text: str,\n",
    "        k: int = 5,\n",
    "        min_quality: float = 0.5,\n",
    "        metric_class: DistanceMetric = CosineSimilarity,\n",
    "        text_only: bool = False,\n",
    "    ) -> list[tuple[str, float]]:\n",
    "        query_vector = self.model.get_embedding(query_text)\n",
    "        response = self.search(query_vector, k, min_quality, metric_class.count)\n",
    "        return [item[0].key for item in response] if text_only else response"
   ]
  },
  {
   "cell_type": "markdown",
   "id": "f455e499-550a-4b41-8463-7ec25b4b5fcd",
   "metadata": {},
   "source": [
    "## File parsers"
   ]
  },
  {
   "cell_type": "code",
   "execution_count": 12,
   "id": "5d340d7b-530f-47b3-b821-de66c422b854",
   "metadata": {},
   "outputs": [],
   "source": [
    "class FileParser(ABC):\n",
    "    @abstractmethod\n",
    "    def parse_file(self, path: str) -> str:\n",
    "        pass\n",
    "\n",
    "\n",
    "class DocxFileParser(FileParser):\n",
    "    def parse_file(self, path: str) -> str:\n",
    "        doc = docx.Document(path)\n",
    "        return \"\\n\".join([para.text for para in doc.paragraphs])\n",
    "\n",
    "\n",
    "class TxtFileParser(FileParser):\n",
    "    def parse_file(self, path: str) -> str:\n",
    "        with open(path, \"r\", encoding=\"utf-8\", errors=\"ignore\") as file:\n",
    "            return file.read()\n",
    "\n",
    "\n",
    "class PdfFileParser(FileParser):\n",
    "    def parse_file(self, path: str) -> str:\n",
    "        reader = PdfReader(path)\n",
    "        content = []\n",
    "        for page in reader.pages:\n",
    "            content.append(page.extract_text())\n",
    "        return \"\\n\".join(content)"
   ]
  },
  {
   "cell_type": "code",
   "execution_count": 13,
   "id": "eb7111a5-44f6-4e30-8e49-4a81c0e8b8e9",
   "metadata": {},
   "outputs": [],
   "source": [
    "# Fast test\n",
    "assert DocxFileParser().parse_file(\"data/Chinese.docx\")\n",
    "assert TxtFileParser().parse_file(\"data/Chinese.txt\")\n",
    "assert PdfFileParser().parse_file(\"data/Chinese.pdf\")"
   ]
  },
  {
   "cell_type": "markdown",
   "id": "cd1ef5e6-e667-41c7-a81d-b7a150172f1a",
   "metadata": {},
   "source": [
    "## Splitter\n",
    "\n",
    "After analyzing the input files, I saw a pattern in splitting recipes using double square brackets and numbers inside\n",
    "\n",
    "Examples: [1] `<recipe>` [123] `<recipe>` [323]\n",
    "\n",
    "That's why I decided to write a custom splitter that will bring us closer to that golden batch\n",
    "\n",
    "In the future, if we want to load files that are formatted differently, \n",
    "we will need to have another splitter, or modify the current one to meet the new requirements."
   ]
  },
  {
   "cell_type": "code",
   "execution_count": 14,
   "id": "90b33966-4c24-42d6-92c1-e52a35e8ec69",
   "metadata": {},
   "outputs": [],
   "source": [
    "class CookbookTextSplitter:\n",
    "    pattern = r\"\\[\\d+\\]\"\n",
    "\n",
    "    def split(self, text: str) -> list[str]:\n",
    "        return re.split(self.pattern, text)"
   ]
  },
  {
   "cell_type": "code",
   "execution_count": 15,
   "id": "9ec3a61c-7019-4630-878d-f5d32272adc1",
   "metadata": {},
   "outputs": [],
   "source": [
    "splitter = CookbookTextSplitter()"
   ]
  },
  {
   "cell_type": "markdown",
   "id": "29614997-5da4-408f-b8d0-6405af23899e",
   "metadata": {},
   "source": [
    "<br>"
   ]
  },
  {
   "cell_type": "markdown",
   "id": "9f5c38c6-2a74-42cc-9dd7-7021ecfc8628",
   "metadata": {},
   "source": [
    "### Select any one of the following"
   ]
  },
  {
   "cell_type": "code",
   "execution_count": 16,
   "id": "dae085d1-7fea-4b87-a53c-b900973ae33f",
   "metadata": {},
   "outputs": [],
   "source": [
    "path_to_file = \"data/Chinese.docx\"\n",
    "# path_to_file = \"data/Chinese.pdf\"\n",
    "# path_to_file = \"data/Chinese.txt\""
   ]
  },
  {
   "cell_type": "markdown",
   "id": "3e261b34-3491-47ca-8f70-7ae8405179cc",
   "metadata": {},
   "source": [
    "<br>"
   ]
  },
  {
   "cell_type": "code",
   "execution_count": 17,
   "id": "e7b14eb4-66fa-4d72-a9cc-23cc697063d1",
   "metadata": {},
   "outputs": [],
   "source": [
    "_, file_ext = os.path.splitext(path_to_file)\n",
    "\n",
    "parsers_map = {\".docx\": DocxFileParser, \".txt\": TxtFileParser, \".pdf\": PdfFileParser}\n",
    "\n",
    "text = parsers_map[file_ext]().parse_file(path_to_file)"
   ]
  },
  {
   "cell_type": "code",
   "execution_count": 18,
   "id": "edbcdb96-2a4d-42d9-b6dd-84ac25ba4938",
   "metadata": {},
   "outputs": [],
   "source": [
    "splitted_text = splitter.split(text)"
   ]
  },
  {
   "cell_type": "code",
   "execution_count": 19,
   "id": "f1e408ac-5335-44ff-8ca0-74fe94b6e6e6",
   "metadata": {},
   "outputs": [
    {
     "name": "stdout",
     "output_type": "stream",
     "text": [
      "102\n"
     ]
    }
   ],
   "source": [
    "print(len(splitted_text))"
   ]
  },
  {
   "cell_type": "markdown",
   "id": "b6308b83-84e3-4dd6-8d6d-d719df91385d",
   "metadata": {},
   "source": [
    "<br>"
   ]
  },
  {
   "cell_type": "code",
   "execution_count": 20,
   "id": "99f3a534-67b9-4d87-a580-52938b973cac",
   "metadata": {},
   "outputs": [],
   "source": [
    "# THIS CELL EAT MONEY BALANCE / DO NOT SPAM IT\n",
    "embedding_model = EmbeddingModel(settings=settings)\n",
    "embeddings = asyncio.run(embedding_model.async_get_embeddings(splitted_text))"
   ]
  },
  {
   "cell_type": "markdown",
   "id": "c2a2a811-165a-42d5-b628-106c9f663fc4",
   "metadata": {},
   "source": [
    "### Fill DB with vectors"
   ]
  },
  {
   "cell_type": "code",
   "execution_count": 21,
   "id": "0a718bb3-eafc-483e-89ce-bbada641639b",
   "metadata": {},
   "outputs": [],
   "source": [
    "db = DB(model=embedding_model)\n",
    "\n",
    "for item, emb in zip(splitted_text, embeddings):\n",
    "    metadata = {\n",
    "        \"path_to_file\": path_to_file,\n",
    "        \"model\": embedding_model.embeddings_model_name,\n",
    "    }\n",
    "    vector = Vector(data=emb, key=item, metadata=metadata)\n",
    "    db.insert(vector)"
   ]
  },
  {
   "cell_type": "code",
   "execution_count": 22,
   "id": "bba09440-6b30-428a-b46e-8b02f2c7f93d",
   "metadata": {},
   "outputs": [
    {
     "data": {
      "text/plain": [
       "102"
      ]
     },
     "execution_count": 22,
     "metadata": {},
     "output_type": "execute_result"
    }
   ],
   "source": [
    "len(db.vectors)"
   ]
  },
  {
   "cell_type": "markdown",
   "id": "92154ea3-a7e2-406c-8cdd-002ad8ac92f9",
   "metadata": {},
   "source": [
    "## LLM part\n",
    "\n",
    "Now let's test LLM responses with and without RAG\n",
    "\n",
    "We will try to ask some questions about chinese food recipe (provided below) that stored in sourse file and compare results\n",
    "\n",
    "We already have a vector database filled with data, so we will use it\n",
    "\n",
    "Food recipe reference will be provided below"
   ]
  },
  {
   "cell_type": "code",
   "execution_count": 23,
   "id": "10814989-cf00-4544-ab71-d317ca262c3e",
   "metadata": {},
   "outputs": [],
   "source": [
    "# LLM model class\n",
    "\n",
    "\n",
    "class ChatOpenAI:\n",
    "    def __init__(self, settings: Settings) -> None:\n",
    "        self.model_name = settings.llm_model\n",
    "        self.client = openai.OpenAI(api_key=settings.openai_api_key)\n",
    "\n",
    "    def run(self, messages, text_only: bool = True):\n",
    "        if not isinstance(messages, list):\n",
    "            raise ValueError(\"messages must be a list\")\n",
    "\n",
    "        chat_completion = self.client.chat.completions.create(\n",
    "            messages=messages, model=self.model_name\n",
    "        )\n",
    "\n",
    "        if text_only:\n",
    "            return chat_completion.choices[0].message.content\n",
    "\n",
    "        return chat_completion\n",
    "\n",
    "\n",
    "chat = ChatOpenAI(settings=settings)"
   ]
  },
  {
   "cell_type": "code",
   "execution_count": 24,
   "id": "a73e582a-1030-410c-a8f5-6a10d25c64df",
   "metadata": {},
   "outputs": [],
   "source": [
    "# Prompt class\n",
    "\n",
    "\n",
    "class Prompt:\n",
    "    def as_user(self, text: str) -> dict[str, str]:\n",
    "        return {\"role\": \"user\", \"content\": text}\n",
    "\n",
    "    def as_assistant(self, text: str) -> dict[str, str]:\n",
    "        return {\"role\": \"assistant\", \"content\": text}\n",
    "\n",
    "    def as_system(self, text: str) -> dict[str, str]:\n",
    "        return {\"role\": \"system\", \"content\": text}\n",
    "\n",
    "\n",
    "prompt = Prompt()"
   ]
  },
  {
   "cell_type": "markdown",
   "id": "f944b693-99c9-4215-8f90-425b07cda92a",
   "metadata": {},
   "source": [
    "## Mu Shu Pork\n",
    "\n",
    "1/2 lb pork tenderloin, cut into 1/4-inch strips\n",
    "\n",
    "Marinade:\n",
    "2 tsps soy sauce\n",
    "1/2 tsp cornstarch,\n",
    "1/8 tsp salt\n",
    "1/2 tsp dry sherry\n",
    "1/4 tsp sugar\n",
    "\n",
    "Cooking Sauce:\n",
    "2 tsps soy sauce\n",
    "2 tsps dry sherry\n",
    "1 tsp sesame oil\n",
    "1/2 tsp sugar\n",
    "10 6-inch flour tortillas\n",
    "2 1/2 tsps cooking oil\n",
    "2 eggs, beaten with 1/4 tsp salt\n",
    "1 1/2 oz vermicelli, soaked and cut into 2-inch pieces\n",
    "1 large tree ears, soaked and thinly sliced\n",
    "4 medium Chinese dried mushrooms, soaked and thinly sliced\n",
    "3 whole green onions, shredded\n",
    "1/2 cup red bell pepper, shredded\n",
    "1/2 cup bamboo shoots, cut into matchstick pieces\n",
    "hoisin sauce for serving\n",
    "\n",
    "Combine the marinade ingredients and the meat in a bowl, marinate and\n",
    "set aside.\n",
    "\n",
    "Wrap tortillas in foil and warm for 10 minutes in a 350F oven.\n",
    "Heat skillet with 1 1/2 tsp of oil, over high heat. Add the beaten eggs\n",
    "and tilting the skillet to distribute the eggs into thin pancake and cook\n",
    "just until set. Remove to cutting surface and cut into 1/4-inch wide\n",
    "strips.\n",
    "\n",
    "Prepare cooking sauce and set aside.\n",
    "\n",
    "Heat a wok and add 2 tsps of the oil, stir-fry the pork mixture for 2\n",
    "minutes or until meat is browned. Add tree ears, mushrooms, green onions,\n",
    "red pepper, and bamboo shoots, toss for a few seconds, then add the\n",
    "vermicelli and egg strips. Stir in the sauce mixture and toss until\n",
    "combined. Tranfer to a platter and serve with warm tortillas.\n",
    "\n",
    "To eat, spread a little of the hoisin sauce over tortilla, place some\n",
    "pork mixture on top, fold it over and eat as sandwich-style.\n",
    "\n",
    "Makes 4 servings as a main course or 8 with other dishes."
   ]
  },
  {
   "cell_type": "markdown",
   "id": "b5dd8c5f-e8fd-4e80-8463-fbf7c6566d44",
   "metadata": {},
   "source": [
    "### No RAG"
   ]
  },
  {
   "cell_type": "code",
   "execution_count": 25,
   "id": "1aa59576-fce8-4be4-96aa-636199594493",
   "metadata": {},
   "outputs": [],
   "source": [
    "messages_no_rag = []\n",
    "messages_no_rag.append(\n",
    "    prompt.as_system(\"You are an expert in Chinese cuisine and always respond kindly.\")\n",
    ")\n",
    "messages_no_rag.append(\n",
    "    prompt.as_user(\n",
    "        \"What is Mu Shu Pork? Write me a detailed recipe for this dish, starting with the ingredients and ending with the cooking method.\"\n",
    "    )\n",
    ")"
   ]
  },
  {
   "cell_type": "code",
   "execution_count": 26,
   "id": "f305b3c7-2bc9-45a2-af77-5ec790468c7b",
   "metadata": {},
   "outputs": [
    {
     "name": "stdout",
     "output_type": "stream",
     "text": [
      "Mu Shu Pork is a delicious and flavorful Chinese dish that's popular both in China and around the world. It features stir-fried pork with vegetables, typically served with Mandarin pancakes and hoisin sauce. Here's a detailed recipe for making Mu Shu Pork at home:\n",
      "\n",
      "### Ingredients:\n",
      "\n",
      "#### For the Pork Marinade:\n",
      "- 1/2 pound (about 225 grams) pork tenderloin or shoulder, thinly sliced\n",
      "- 1 tablespoon soy sauce\n",
      "- 1 teaspoon rice wine or dry sherry\n",
      "- 1/2 teaspoon cornstarch\n",
      "- 1/4 teaspoon sesame oil\n",
      "\n",
      "#### For the Stir-Fry:\n",
      "- 2 tablespoons vegetable oil, divided\n",
      "- 2 large eggs, beaten\n",
      "- 3 dried wood ear mushrooms, soaked in warm water until soft and thinly sliced\n",
      "- 1/2 cup bamboo shoots, julienned\n",
      "- 1/2 cup napa cabbage, shredded\n",
      "- 1/2 cup carrots, julienned\n",
      "- 3 green onions, sliced\n",
      "- 1 tablespoon ginger, minced\n",
      "- 1 tablespoon garlic, minced\n",
      "\n",
      "#### For the Sauce:\n",
      "- 2 tablespoons hoisin sauce\n",
      "- 1 tablespoon soy sauce\n",
      "- 1 tablespoon oyster sauce\n",
      "- 1 teaspoon sugar\n",
      "- 2 teaspoons cornstarch mixed with 2 tablespoons water (for slurry)\n",
      "\n",
      "#### For Serving:\n",
      "- Mandarin pancakes or flour tortillas\n",
      "- Hoisin sauce (optional, for spreading)\n",
      "\n",
      "### Cooking Method:\n",
      "\n",
      "1. **Marinate the Pork:**\n",
      "   - In a small bowl, combine the soy sauce, rice wine, cornstarch, and sesame oil.\n",
      "   - Add the sliced pork to the marinade, ensuring each piece is well-coated. Let it marinate for about 15-20 minutes while you prepare the other ingredients.\n",
      "\n",
      "2. **Prepare the Sauce:**\n",
      "   - In another small bowl, mix together the hoisin sauce, soy sauce, oyster sauce, and sugar until well combined.\n",
      "\n",
      "3. **Cook the Eggs:**\n",
      "   - Heat a non-stick skillet or a wok over medium heat and add 1 tablespoon of the vegetable oil.\n",
      "   - Pour in the beaten eggs, and gently scramble them until fully cooked. Remove the eggs from the pan and set aside.\n",
      "\n",
      "4. **Stir-Fry the Pork:**\n",
      "   - In the same pan, increase the heat to high and add the remaining tablespoon of oil.\n",
      "   - Add the marinated pork and stir-fry for about 2-3 minutes until the pork is nearly cooked through. Remove it from the pan and set aside.\n",
      "\n",
      "5. **Cook the Vegetables:**\n",
      "   - In the same pan, add the ginger and garlic, stir-frying quickly until fragrant.\n",
      "   - Add the wood ear mushrooms, bamboo shoots, napa cabbage, and carrots. Stir-fry for 2-3 minutes until the vegetables are tender-crisp.\n",
      "\n",
      "6. **Combine Ingredients:**\n",
      "   - Return the cooked pork and eggs to the pan, mixing them with the vegetables.\n",
      "   - Pour the prepared sauce over the mixture and stir well to coat all ingredients.\n",
      "   - Add the green onions and stir in the cornstarch slurry. Cook for another minute or until the sauce thickens slightly and everything is well combined.\n",
      "\n",
      "7. **Serve:**\n",
      "   - Serve the Mu Shu Pork with warm Mandarin pancakes or flour tortillas. \n",
      "   - To eat, spread a small amount of hoisin sauce on a pancake, add a scoop of the Mu Shu Pork mixture, roll it up, and enjoy!\n",
      "\n",
      "Mu Shu Pork is a versatile dish that can be adjusted based on your taste. Feel free to add or substitute vegetables or try different sauces to make it your own. Enjoy your meal!\n"
     ]
    }
   ],
   "source": [
    "# THIS CELL EAT MONEY BALANCE / DO NOT SPAM IT\n",
    "print(chat.run(messages_no_rag))"
   ]
  },
  {
   "cell_type": "markdown",
   "id": "5a30190f-8b6d-4629-92cd-31b32564d03e",
   "metadata": {},
   "source": [
    "<br>"
   ]
  },
  {
   "cell_type": "markdown",
   "id": "20922827-44f2-4f77-a834-f017e748498e",
   "metadata": {},
   "source": [
    "### Let's add RAG now"
   ]
  },
  {
   "cell_type": "code",
   "execution_count": 27,
   "id": "5f78695f-4eac-4430-80d4-4c99942e42d3",
   "metadata": {},
   "outputs": [],
   "source": [
    "RAG_PROMPT = \"\"\"\n",
    "You are an expert in Chinese cuisine and always respond kindly.\n",
    "\n",
    "Use the provided recipes context to answer the user's query.\n",
    "\n",
    "Recipes context will contain data from database.\n",
    "\n",
    "At the beginning of each recipe there will be a <recipe_start> tag, and at the end <recipe_end>.\n",
    "\n",
    "The recipes will be separated from each other by two new lines.\n",
    "\n",
    "If you come across a recipe in context that is not mentioned in the user's query, you can ignore it.\n",
    "\n",
    "You may not answer the user's query unless there is specific recipe context in the following text.\n",
    "\n",
    "If you do not know the answer, or cannot answer, please respond with \"I don't know\".\n",
    "\"\"\""
   ]
  },
  {
   "cell_type": "code",
   "execution_count": 28,
   "id": "6e4e1b9e-4fe9-4f45-b1ad-5fdb631affbf",
   "metadata": {},
   "outputs": [],
   "source": [
    "USER_PROMPT_TEMPLATE = \"\"\"\n",
    "Recipes context:\n",
    "{context}\n",
    "\n",
    "User Query:\n",
    "{user_query}\n",
    "\"\"\""
   ]
  },
  {
   "cell_type": "code",
   "execution_count": 29,
   "id": "3f0f5399-936d-4373-a288-888e41c84074",
   "metadata": {},
   "outputs": [],
   "source": [
    "user_query = \"What is Mu Shu Pork? Write me a detailed recipe for this dish, starting with the ingredients and ending with the cooking method.\""
   ]
  },
  {
   "cell_type": "markdown",
   "id": "c274e763-1b66-4e05-b857-95aac2ae6ae7",
   "metadata": {},
   "source": [
    "## Some thoughts on the chosen values\n",
    "\n",
    "A few words about the chosen minimum quality value and the chosen metric class.\n",
    "\n",
    "After some tests and playing around with the metric classes, I realized that the best possible class is `Cosine Similarity`\n",
    "\n",
    "It provides the most relevant values for our case with high-dimensional vectors.\n",
    "\n",
    "I also tested some values for the `min_quality` argument.\n",
    "\n",
    "The tests show that the really good values are stored between **0.6** and **1**\n",
    "\n",
    "Elements below 0.6 are not so good, so we will ignore them."
   ]
  },
  {
   "cell_type": "code",
   "execution_count": 30,
   "id": "3411187b-94ff-4354-b149-e78e16049dc2",
   "metadata": {},
   "outputs": [],
   "source": [
    "# THIS CELL EAT MONEY BALANCE / DO NOT SPAM IT\n",
    "search_result = db.search_by_text(\n",
    "    user_query, k=5, min_quality=0.6, metric_class=CosineSimilarity\n",
    ")"
   ]
  },
  {
   "cell_type": "code",
   "execution_count": 31,
   "id": "05612927-c390-4a82-a23a-64647a628921",
   "metadata": {},
   "outputs": [],
   "source": [
    "context = \"\\n\\n\".join(\n",
    "    [f\"<recipe_start>\\n{item[0].key.strip()}\\n<recipe_end>\" for item in search_result]\n",
    ")\n",
    "user_query = USER_PROMPT_TEMPLATE.format(context=context, user_query=user_query)"
   ]
  },
  {
   "cell_type": "code",
   "execution_count": 32,
   "id": "6980957a-9115-4c1a-a343-b3f9cf88f50a",
   "metadata": {},
   "outputs": [],
   "source": [
    "messages_with_rag = []\n",
    "messages_with_rag.append(prompt.as_system(RAG_PROMPT))\n",
    "messages_with_rag.append(prompt.as_user(user_query))"
   ]
  },
  {
   "cell_type": "code",
   "execution_count": 33,
   "id": "46bdc1d3-7e58-4dc7-8b4d-3149835dca3f",
   "metadata": {},
   "outputs": [
    {
     "name": "stdout",
     "output_type": "stream",
     "text": [
      "Mu Shu Pork is a traditional Chinese dish. Here is a detailed recipe for preparing Mu Shu Pork:\n",
      "\n",
      "**Ingredients:**\n",
      "\n",
      "- **For the Pork and Marinade:**\n",
      "  - 1/2 lb pork tenderloin, cut into 1/4-inch strips\n",
      "  - 2 tsps soy sauce\n",
      "  - 1/2 tsp cornstarch\n",
      "  - 1/8 tsp salt\n",
      "  - 1/2 tsp dry sherry\n",
      "  - 1/4 tsp sugar\n",
      "\n",
      "- **For the Cooking Sauce:**\n",
      "  - 2 tsps soy sauce\n",
      "  - 2 tsps dry sherry\n",
      "  - 1 tsp sesame oil\n",
      "  - 1/2 tsp sugar\n",
      "\n",
      "- **Additional Ingredients:**\n",
      "  - 10 6-inch flour tortillas\n",
      "  - 2 1/2 tsps cooking oil\n",
      "  - 2 eggs, beaten with 1/4 tsp salt\n",
      "  - 1 1/2 oz vermicelli, soaked and cut into 2-inch pieces\n",
      "  - 1 large tree ear, soaked and thinly sliced\n",
      "  - 4 medium Chinese dried mushrooms, soaked and thinly sliced\n",
      "  - 3 whole green onions, shredded\n",
      "  - 1/2 cup red bell pepper, shredded\n",
      "  - 1/2 cup bamboo shoots, cut into matchstick pieces\n",
      "  - Hoisin sauce, for serving\n",
      "\n",
      "**Cooking Method:**\n",
      "\n",
      "1. **Marinate the Pork:**\n",
      "   - Combine the marinade ingredients (soy sauce, cornstarch, salt, dry sherry, and sugar) in a bowl.\n",
      "   - Add the pork strips to the marinade, mix well, and set aside to marinate.\n",
      "\n",
      "2. **Prepare the Tortillas:**\n",
      "   - Wrap the flour tortillas in foil and warm them in a 350°F oven for 10 minutes.\n",
      "\n",
      "3. **Prepare the Eggs:**\n",
      "   - Heat a skillet with 1 1/2 tsp of cooking oil over high heat.\n",
      "   - Add the beaten eggs, tilting the skillet to distribute them into a thin pancake.\n",
      "   - Cook just until set, then remove to a cutting surface and cut into 1/4-inch wide strips.\n",
      "\n",
      "4. **Cooking the Pork and Vegetables:**\n",
      "   - Prepare the cooking sauce by combining soy sauce, dry sherry, sesame oil, and sugar. Set aside.\n",
      "   - Heat a wok, add 2 tsps of oil, and stir-fry the marinated pork mixture for 2 minutes or until the meat is browned.\n",
      "   - Add the sliced tree ears, mushrooms, green onions, red pepper, and bamboo shoots, and toss for a few seconds.\n",
      "   - Add the vermicelli and egg strips, stirring until combined.\n",
      "   - Pour in the sauce mixture and toss everything together until well mixed.\n",
      "\n",
      "5. **Serving:**\n",
      "   - Transfer the cooked mixture to a platter.\n",
      "   - To serve, spread a little hoisin sauce over a warm tortilla, place some pork mixture on top, fold it over, and enjoy as a sandwich-style wrap.\n",
      "\n",
      "This recipe makes 4 servings as a main course or 8 servings when accompanied by other dishes. Enjoy your delicious Mu Shu Pork!\n"
     ]
    }
   ],
   "source": [
    "# THIS CELL EAT MONEY BALANCE / DO NOT SPAM IT\n",
    "print(chat.run(messages_with_rag))"
   ]
  },
  {
   "cell_type": "code",
   "execution_count": 34,
   "id": "ac7f03f8-5d61-45ff-a72e-6d94f1b76821",
   "metadata": {},
   "outputs": [],
   "source": [
    "# Not let's try to mention some unreal dish and check the result"
   ]
  },
  {
   "cell_type": "code",
   "execution_count": 35,
   "id": "4b2aac7b-252d-478c-a5ad-89a08aba0fc5",
   "metadata": {},
   "outputs": [],
   "source": [
    "user_strange_query = \"What is Death Star? Write me a detailed recipe for this dish, starting with the ingredients and ending with the cooking method.\""
   ]
  },
  {
   "cell_type": "code",
   "execution_count": 36,
   "id": "d33f0c14-05a7-469e-a683-30725c72e87e",
   "metadata": {},
   "outputs": [],
   "source": [
    "# THIS CELL EAT MONEY BALANCE / DO NOT SPAM IT\n",
    "search_result = db.search_by_text(user_strange_query, k=5, min_quality=0.6)"
   ]
  },
  {
   "cell_type": "code",
   "execution_count": 37,
   "id": "84650cf2-7327-496e-85df-374669279ccc",
   "metadata": {},
   "outputs": [
    {
     "data": {
      "text/plain": [
       "0"
      ]
     },
     "execution_count": 37,
     "metadata": {},
     "output_type": "execute_result"
    }
   ],
   "source": [
    "len(search_result)"
   ]
  },
  {
   "cell_type": "code",
   "execution_count": 38,
   "id": "51358c0a-430c-411e-b62b-5a57a03885d0",
   "metadata": {},
   "outputs": [],
   "source": [
    "# As expected no results for such cringe"
   ]
  },
  {
   "cell_type": "code",
   "execution_count": 39,
   "id": "3cf6a926-a2b0-4861-9f2f-e3e74e3d3491",
   "metadata": {},
   "outputs": [],
   "source": [
    "context = \"\\n\\n\".join(\n",
    "    [f\"<recipe_start>\\n{item[0].key.strip()}\\n<recipe_end>\" for item in search_result]\n",
    ")\n",
    "user_strange_query = USER_PROMPT_TEMPLATE.format(\n",
    "    context=context, user_query=user_strange_query\n",
    ")"
   ]
  },
  {
   "cell_type": "code",
   "execution_count": 40,
   "id": "b9f4355d-ce89-4391-aa6a-6fc8e42fa85d",
   "metadata": {},
   "outputs": [
    {
     "name": "stdout",
     "output_type": "stream",
     "text": [
      "\n",
      "Recipes context:\n",
      "\n",
      "\n",
      "User Query:\n",
      "What is Death Star? Write me a detailed recipe for this dish, starting with the ingredients and ending with the cooking method.\n",
      "\n"
     ]
    }
   ],
   "source": [
    "print(user_strange_query)"
   ]
  },
  {
   "cell_type": "code",
   "execution_count": 41,
   "id": "7c89ef23-ac18-4225-bc69-8a562e0dd879",
   "metadata": {},
   "outputs": [],
   "source": [
    "messages_with_rag = []\n",
    "messages_with_rag.append(prompt.as_system(RAG_PROMPT))\n",
    "messages_with_rag.append(prompt.as_user(user_strange_query))"
   ]
  },
  {
   "cell_type": "code",
   "execution_count": 42,
   "id": "4fed33f7-24af-41ba-88d7-416940cb9f5f",
   "metadata": {},
   "outputs": [
    {
     "name": "stdout",
     "output_type": "stream",
     "text": [
      "I don't know.\n"
     ]
    }
   ],
   "source": [
    "# THIS CELL EAT MONEY BALANCE / DO NOT SPAM IT\n",
    "print(chat.run(messages_with_rag))"
   ]
  },
  {
   "cell_type": "code",
   "execution_count": 43,
   "id": "35461274-3c0a-436b-bbf9-9b5f811884f7",
   "metadata": {},
   "outputs": [],
   "source": [
    "# Cool, because no one knows :)"
   ]
  },
  {
   "cell_type": "markdown",
   "id": "f26cf2c1-0819-4cc6-915b-922749f43b9f",
   "metadata": {},
   "source": [
    "# Summary\n",
    "\n",
    "### Goals:\n",
    "1. Add one of the following \"extras\" to the RAG pipeline:\n",
    "    1. Allow it to work with PDF files [Done]\n",
    "    2. Implement a new distance metric [Done]\n",
    "    3. Add metadata support to the vector database [Done]\n",
    "2. Make a simple diagram of the RAG process [Done]\n",
    "3. Run the notebook [Done]\n",
    "4. Record a Loom walking through the notebook, the questions in the notebook, and your addition!"
   ]
  }
 ],
 "metadata": {
  "kernelspec": {
   "display_name": "Python 3 (ipykernel)",
   "language": "python",
   "name": "python3"
  },
  "language_info": {
   "codemirror_mode": {
    "name": "ipython",
    "version": 3
   },
   "file_extension": ".py",
   "mimetype": "text/x-python",
   "name": "python",
   "nbconvert_exporter": "python",
   "pygments_lexer": "ipython3",
   "version": "3.11.11"
  }
 },
 "nbformat": 4,
 "nbformat_minor": 5
}
