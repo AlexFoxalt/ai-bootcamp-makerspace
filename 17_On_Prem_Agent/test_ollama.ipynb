{
 "cells": [
  {
   "cell_type": "code",
   "metadata": {
    "ExecuteTime": {
     "end_time": "2025-03-12T12:08:20.526333Z",
     "start_time": "2025-03-12T12:08:20.387616Z"
    }
   },
   "source": [
    "from langchain_ollama import ChatOllama\n",
    "\n",
    "llm = ChatOllama(model=\"deepseek-r1:8b\")"
   ],
   "outputs": [
    {
     "ename": "ModuleNotFoundError",
     "evalue": "No module named 'langchain_ollama'",
     "output_type": "error",
     "traceback": [
      "\u001B[0;31m---------------------------------------------------------------------------\u001B[0m",
      "\u001B[0;31mModuleNotFoundError\u001B[0m                       Traceback (most recent call last)",
      "Cell \u001B[0;32mIn[1], line 1\u001B[0m\n\u001B[0;32m----> 1\u001B[0m \u001B[38;5;28;01mfrom\u001B[39;00m\u001B[38;5;250m \u001B[39m\u001B[38;5;21;01mlangchain_ollama\u001B[39;00m\u001B[38;5;250m \u001B[39m\u001B[38;5;28;01mimport\u001B[39;00m ChatOllama\n\u001B[1;32m      3\u001B[0m llm \u001B[38;5;241m=\u001B[39m ChatOllama(model\u001B[38;5;241m=\u001B[39m\u001B[38;5;124m\"\u001B[39m\u001B[38;5;124mdeepseek-r1:8b\u001B[39m\u001B[38;5;124m\"\u001B[39m)\n",
      "\u001B[0;31mModuleNotFoundError\u001B[0m: No module named 'langchain_ollama'"
     ]
    }
   ],
   "execution_count": 1
  },
  {
   "cell_type": "code",
   "execution_count": 7,
   "metadata": {},
   "outputs": [
    {
     "name": "stdout",
     "output_type": "stream",
     "text": [
      "<think>\n",
      "To determine the third root of 27, I start by understanding what a cube root is. The cube root of a number \\( x \\) is another number \\( y \\) such that \\( y^3 = x \\).\n",
      "\n",
      "Given the number 27, I know that \\( 3^3 = 27 \\). This means that \\( y = 3 \\) satisfies the equation.\n",
      "\n",
      "Therefore, the third root of 27 is 3.\n",
      "</think>\n",
      "\n",
      "To find the **3rd root** of **27**, follow these steps:\n",
      "\n",
      "1. **Understand What a Cube Root Is:**\n",
      "   \n",
      "   The cube root of a number \\( x \\), denoted as \\( \\sqrt[3]{x} \\), is a number \\( y \\) such that:\n",
      "   \\[\n",
      "   y^3 = x\n",
      "   \\]\n",
      "   \n",
      "2. **Apply the Definition to 27:**\n",
      "   \n",
      "   We need to find \\( y \\) such that:\n",
      "   \\[\n",
      "   y^3 = 27\n",
      "   \\]\n",
      "   \n",
      "3. **Calculate the Cube of 3:**\n",
      "   \n",
      "   Let's test \\( y = 3 \\):\n",
      "   \\[\n",
      "   3^3 = 3 \\times 3 \\times 3 = 9 \\times 3 = 27\n",
      "   \\]\n",
      "   \n",
      "4. **Conclusion:**\n",
      "   \n",
      "   Since \\( 3^3 = 27 \\), it follows that:\n",
      "   \\[\n",
      "   \\sqrt[3]{27} = 3\n",
      "   \\]\n",
      "\n",
      "\\(\\boxed{3}\\)"
     ]
    }
   ],
   "source": [
    "for chunk in llm.stream(\"What is the 3rd root of 27?\"):\n",
    "    print(chunk.content, end=\"\")"
   ]
  }
 ],
 "metadata": {
  "kernelspec": {
   "display_name": ".venv",
   "language": "python",
   "name": "python3"
  },
  "language_info": {
   "codemirror_mode": {
    "name": "ipython",
    "version": 3
   },
   "file_extension": ".py",
   "mimetype": "text/x-python",
   "name": "python",
   "nbconvert_exporter": "python",
   "pygments_lexer": "ipython3",
   "version": "3.13.1"
  }
 },
 "nbformat": 4,
 "nbformat_minor": 2
}
